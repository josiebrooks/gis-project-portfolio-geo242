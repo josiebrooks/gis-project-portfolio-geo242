{
  "nbformat": 4,
  "nbformat_minor": 0,
  "metadata": {
    "colab": {
      "provenance": [],
      "toc_visible": true,
      "include_colab_link": true
    },
    "kernelspec": {
      "name": "python3",
      "display_name": "Python 3"
    },
    "language_info": {
      "name": "python"
    }
  },
  "cells": [
    {
      "cell_type": "markdown",
      "metadata": {
        "id": "view-in-github",
        "colab_type": "text"
      },
      "source": [
        "<a href=\"https://colab.research.google.com/github/josiebrooks/gis-project-portfolio-geo242/blob/main/Josie_Brooks_week_09_assignment_template.ipynb\" target=\"_parent\"><img src=\"https://colab.research.google.com/assets/colab-badge.svg\" alt=\"Open In Colab\"/></a>"
      ]
    },
    {
      "cell_type": "markdown",
      "source": [
        "# **Spatial analysis for raster data**"
      ],
      "metadata": {
        "id": "C0ymCPR5aSHN"
      }
    },
    {
      "cell_type": "markdown",
      "source": [
        "🚀 Created by Josie Brooks\n",
        "\n",
        "10/23/2024"
      ],
      "metadata": {
        "id": "Pt_OREXFPvkr"
      }
    },
    {
      "cell_type": "markdown",
      "source": [
        "## **Get ready to start**\n",
        "\n",
        "- Click **`File/Save a copy in Drive`** to save a copy of this notebook to my own Google Drive"
      ],
      "metadata": {
        "id": "CMQN_pgaHVLO"
      }
    },
    {
      "cell_type": "markdown",
      "source": [
        "## **Overview**\n",
        "\n",
        "This notebook contains three parts:\n",
        "\n",
        "- Use the [USGS 3DEP](https://www.usgs.gov/3d-elevation-program) 10-m resolution DEM to create a topographic map of the City of Oxford, OH\n",
        "- Georeference a campus map and create a campus map on the background of hillshade derived based on the USGS 3DEP DEM\n",
        "- Use zonal statistics to calculate the average slope within each parcel of the City of Oxford, OH and identify parcels with steepest slope"
      ],
      "metadata": {
        "id": "6tKmlbnzny_I"
      }
    },
    {
      "cell_type": "markdown",
      "source": [],
      "metadata": {
        "id": "g2DGx3QLY84z"
      }
    },
    {
      "cell_type": "markdown",
      "source": [
        "## **Map of elevation for the City of Oxford, OH**\n"
      ],
      "metadata": {
        "id": "WVs4J1jQbESU"
      }
    },
    {
      "cell_type": "markdown",
      "source": [
        "- Use the checklist below to make sure our map contains all necessary map content and is formatted correctly\n",
        "\n",
        "  - [ ] Contains a title with byline (i.e., by [your name])\n",
        "  - [ ] Use a larger and bold font type for the title\n",
        "  - [ ] Contains a layer of **Elevation**\n",
        "  - [ ] A **hillshade** layer is added to the map to enhance the visualization of elevation, but **not included** in the legend\n",
        "  - [ ] Uses the elevation color ramp to visualize the **Elevation** layer by elevation\n",
        "  - [ ] Contains a map scale\n",
        "  - [ ] Contains a legend\n",
        "  - [ ] Contains a north arrow\n",
        "  - [ ] Uses a balanced layout for all map elements\n",
        "    - [ ] Map stays in the center of layout\n",
        "    - [ ] Font size of title is appropriate (not too big or too small)\n",
        "    - [ ] Legend, map scale bar, and north arrow are placed appropriately to avoid an overlap with the map layers\n",
        "    - [ ] Legend, map scale bar, and north arrow has an appropriate size (big enough to read information, small enough to reserve most of space for map layers"
      ],
      "metadata": {
        "id": "bXB_pi-aPTOT"
      }
    },
    {
      "cell_type": "markdown",
      "source": [
        "```markdown\n",
        "https://drive.google.com/file/d/1_p73cq2DzmA6eTuwN_uK0Q6WKXE6UL0w/view?usp=sharing\n",
        "```\n",
        "\n",
        "- After finishing the two steps below, a link can be created to correctly rendered in Google Colab\n",
        "  - Deleted **`/view?usp=sharing`** at the end of the link\n",
        "  - Replaced **`/file/d/`** with **`/uc?export=view&id=`**\n",
        "\n",
        "```markdown\n",
        "https://drive.google.com/uc?export=view&id=1_p73cq2DzmA6eTuwN_uK0Q6WKXE6UL0w\n",
        "```\n",
        "\n",
        "- The map can be inserted in Google Colab following the syntax [from here](https://www.markdownguide.org/cheat-sheet/)\n",
        "\n",
        "```markdown\n",
        "Insert the map here using syntax:\n",
        "![Oxford, OH](revised link)\n",
        "```\n",
        "\n",
        "![Oxford, OH](https://drive.google.com/uc?export=view&id=1_p73cq2DzmA6eTuwN_uK0Q6WKXE6UL0w)"
      ],
      "metadata": {
        "id": "wkJqun7umRRk"
      }
    },
    {
      "cell_type": "markdown",
      "source": [
        "```markdown\n",
        "[put a link from Google Drive folder for your PNG file of the map and remove this line]\n",
        "```\n",
        "\n",
        "- After finishing the two steps below, a link can be created to correctly rendered in Google Colab\n",
        "  - Deleted **`/view?usp=sharing`** at the end of the link\n",
        "  - Replaced **`/file/d/`** with **`/uc?export=view&id=`**\n",
        "\n",
        "```markdown\n",
        "[put your revised link and remove this line]\n",
        "```\n",
        "\n",
        "- The map can be inserted in Google Colab following the syntax [from here](https://www.markdownguide.org/cheat-sheet/)\n",
        "\n",
        "```markdown\n",
        "Insert the map here using syntax:\n",
        "![MU campus](revised link)\n",
        "```\n",
        "\n",
        "![MU campus](revised link)"
      ],
      "metadata": {
        "id": "KzPQIHhyVU78"
      }
    },
    {
      "cell_type": "markdown",
      "source": [
        "## **Map of steep parcels in the City of Oxford, OH**"
      ],
      "metadata": {
        "id": "1_9kgv7nWPi0"
      }
    },
    {
      "cell_type": "markdown",
      "source": [
        "- Use the checklist below to make sure our map contains all necessary map content and is formatted correctly\n",
        "\n",
        "  - [ ] Contains a title with byline (i.e., by [your name])\n",
        "  - [ ] Use a larger and bold font type for the title\n",
        "  - [ ] Contains a layer of **Parcels with average slope**\n",
        "  - [ ] Use a diverging color scheme to map the Parcels with average slope layer\n",
        "  - [ ] Uses the elevation color ramp to visualize the **Elevation** layer by elevation\n",
        "  - [ ] Contains a map scale\n",
        "  - [ ] Contains a legend\n",
        "  - [ ] Contains a north arrow\n",
        "  - [ ] Uses a balanced layout for all map elements\n",
        "    - [ ] Map stays in the center of layout\n",
        "    - [ ] Font size of title is appropriate (not too big or too small)\n",
        "    - [ ] Legend, map scale bar, and north arrow are placed appropriately to avoid an overlap with the map layers\n",
        "    - [ ] Legend, map scale bar, and north arrow has an appropriate size (big enough to read information, small enough to reserve most of space for map layers"
      ],
      "metadata": {
        "id": "s1fIk7zdWZF6"
      }
    },
    {
      "cell_type": "markdown",
      "source": [
        "```markdown\n",
        "https://drive.google.com/file/d/1_TJYXP5BbGjH7p9_KjlO_CVDEf0hcXPl/view?usp=sharing\n",
        "```\n",
        "\n",
        "- After finishing the two steps below, a link can be created to correctly rendered in Google Colab\n",
        "  - Deleted **`/view?usp=sharing`** at the end of the link\n",
        "  - Replaced **`/file/d/`** with **`/uc?export=view&id=`**\n",
        "\n",
        "```markdown\n",
        "https://drive.google.com/uc?export=view&id=1_TJYXP5BbGjH7p9_KjlO_CVDEf0hcXPl\n",
        "```\n",
        "\n",
        "- The map can be inserted in Google Colab following the syntax [from here](https://www.markdownguide.org/cheat-sheet/)\n",
        "\n",
        "```markdown\n",
        "Insert the map here using syntax:\n",
        "![steep slope](revised link)\n",
        "```\n",
        "\n",
        "![steep slope](https://drive.google.com/uc?export=view&id=1_TJYXP5BbGjH7p9_KjlO_CVDEf0hcXPl)"
      ],
      "metadata": {
        "id": "CTzTj_VIWrDj"
      }
    },
    {
      "cell_type": "markdown",
      "source": [
        "## **Save and share this notebook**\n",
        "\n",
        "- Make this notebook viewable by anyone with the link and submit the link to Canvas as Week 9 assignment\n",
        "- **Save the final version of this notebook to your GitHub repository of GEO 242A**\n",
        "  - You can place this notebook under the same folder as the one you have used for the notebook of band composite"
      ],
      "metadata": {
        "id": "kkgukjDcXsqC"
      }
    },
    {
      "cell_type": "markdown",
      "source": [
        "## **Reference**\n",
        "\n",
        "- [Markdown cheat sheet](https://www.markdownguide.org/cheat-sheet/)\n",
        "- [Insert other references]"
      ],
      "metadata": {
        "id": "fvMbEX89YLeY"
      }
    }
  ]
}
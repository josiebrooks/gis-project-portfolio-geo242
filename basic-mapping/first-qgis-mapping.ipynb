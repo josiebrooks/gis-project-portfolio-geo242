{
  "nbformat": 4,
  "nbformat_minor": 0,
  "metadata": {
    "colab": {
      "provenance": [],
      "toc_visible": true,
      "include_colab_link": true
    },
    "kernelspec": {
      "name": "python3",
      "display_name": "Python 3"
    },
    "language_info": {
      "name": "python"
    }
  },
  "cells": [
    {
      "cell_type": "markdown",
      "metadata": {
        "id": "view-in-github",
        "colab_type": "text"
      },
      "source": [
        "<a href=\"https://colab.research.google.com/github/josiebrooks/gis-project-portfolio-geo242/blob/main/basic-mapping/first-qgis-mapping.ipynb\" target=\"_parent\"><img src=\"https://colab.research.google.com/assets/colab-badge.svg\" alt=\"Open In Colab\"/></a>"
      ]
    },
    {
      "cell_type": "markdown",
      "source": [
        "## **GEO 242A Week 2 Assignment: Cartography**"
      ],
      "metadata": {
        "id": "C0ymCPR5aSHN"
      }
    },
    {
      "cell_type": "markdown",
      "source": [
        "🚀 Created by Josie Brooks\n",
        "\n",
        "09/04/2024"
      ],
      "metadata": {
        "id": "Pt_OREXFPvkr"
      }
    },
    {
      "cell_type": "markdown",
      "source": [
        "### **Get ready to start**\n",
        "\n",
        "- Use **`File\\Save a copy in Drive`** to make a copy of this notebook in my own Google Drive\n",
        "- By default, this notebooks will be saved to a new folder called **`Colab`** under root directory of my Google Drive"
      ],
      "metadata": {
        "id": "v84Fkx0LHARM"
      }
    },
    {
      "cell_type": "markdown",
      "source": [
        "### **Map North American Rivers and Basins**\n",
        "\n",
        "1. **Original shareable link of the map**\n",
        "\n",
        "```markdown\n",
        "https://drive.google.com/file/d/1LXxfLu8Py2Isn-7OpEZDbnqZKAkPgje2/view?usp=sharing\n",
        "```\n",
        "\n",
        "2. **Obtain a shareable link**\n",
        "\n",
        "   - The default link I get for this picture file cannot be directly used in Notebook to show the picture correctly\n",
        "   - I made some changes to the default sharable link:\n",
        "    - Deleted **`/view?usp=sharing`** at the end of the link\n",
        "    - Replaced **`/file/d/`** with **`/uc?export=view&id=`**\n",
        "   - Below is a link I can use to insert a picture in Google Colab notebook\n",
        "\n",
        "```markdown\n",
        "https://drive.google.com/uc?export=view&id=1LXxfLu8Py2Isn-7OpEZDbnqZKAkPgje2\n",
        "```\n",
        "\n",
        "3. **Map of North American Rivers and Basins**\n",
        "  - Use the link above and the syntax in [this link](https://www.markdownguide.org/cheat-sheet/), I can insert the map I prepared down here\n",
        "\n",
        "![North American Rivers and Basins](https://drive.google.com/uc?export=view&id=1LXxfLu8Py2Isn-7OpEZDbnqZKAkPgje2)"
      ],
      "metadata": {
        "id": "WVs4J1jQbESU"
      }
    },
    {
      "cell_type": "markdown",
      "source": [
        "### **Reflection on my first experience mapping with QGIS**\n",
        "\n",
        "- I spent 5 hours to make my first map in QGIS\n",
        "- Here is how I rate my first experience working in markdown\n",
        "  - Data managaement and organization\n",
        "    - I feel like it was very difficult for me to understand the concept of QGIS, markdown is not as difficult for me. I felt very lost and discouraged at times. But Dr. Jia helped a lot in her office hours! :)\n",
        "  - Cartographic functionalities, including changing colors/symbols of layers, adding map elements, exporting a map\n",
        "    - Changing colors is not difficult for me, watching an in-class presentation of this truly helped. Same response stated previously, all of this is new to me, so I struggled."
      ],
      "metadata": {
        "id": "i4RTLellbUh7"
      }
    },
    {
      "cell_type": "markdown",
      "source": [
        "### **Save and share this notebook**\n",
        "\n",
        "- Below is a publicly viewable link to this notebook\n",
        "\n",
        "```markdown\n",
        "[Set access of this notebook as Anyone with the link can view and paste the link here]\n",
        "```"
      ],
      "metadata": {
        "id": "kkgukjDcXsqC"
      }
    },
    {
      "cell_type": "markdown",
      "source": [
        "### **Reference**\n",
        "\n",
        "- [Markdown cheat sheet](https://www.markdownguide.org/cheat-sheet/)\n",
        "- [Insert other references if available]"
      ],
      "metadata": {
        "id": "fvMbEX89YLeY"
      }
    }
  ]
}